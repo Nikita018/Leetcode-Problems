{
  "nbformat": 4,
  "nbformat_minor": 0,
  "metadata": {
    "colab": {
      "name": "Weekly Agreegations.ipynb",
      "provenance": [],
      "authorship_tag": "ABX9TyMACiYWxZCZrUMEbJWcJfmX",
      "include_colab_link": true
    },
    "kernelspec": {
      "name": "python3",
      "display_name": "Python 3"
    }
  },
  "cells": [
    {
      "cell_type": "markdown",
      "metadata": {
        "id": "view-in-github",
        "colab_type": "text"
      },
      "source": [
        "<a href=\"https://colab.research.google.com/github/Nikita018/Leetcode-Problems/blob/master/Data%20Problem/Weekly_Agreegations.ipynb\" target=\"_parent\"><img src=\"https://colab.research.google.com/assets/colab-badge.svg\" alt=\"Open In Colab\"/></a>"
      ]
    },
    {
      "cell_type": "code",
      "metadata": {
        "id": "HWXj-p_nARqb",
        "colab_type": "code",
        "colab": {}
      },
      "source": [
        "# Given a list of timestamps in sequential order, return a list of lists grouped by week (7 days) using the first timestamp as the starting point.\n",
        "\n",
        "# Example:\n",
        "\n",
        "# ts = [\n",
        "#     '2019-01-01', \n",
        "#     '2019-01-02',\n",
        "#     '2019-01-08', \n",
        "#     '2019-02-01', \n",
        "#     '2019-02-02',\n",
        "#     '2019-02-05',\n",
        "# ]\n",
        "\n",
        "# output = [\n",
        "#     ['2019-01-01', '2019-01-02'], \n",
        "#     ['2019-01-08'], \n",
        "#     ['2019-02-01', '2019-02-02'],\n",
        "#     ['2019-02-05'],\n",
        "# ]"
      ],
      "execution_count": null,
      "outputs": []
    },
    {
      "cell_type": "code",
      "metadata": {
        "id": "zH-kElEf5NWR",
        "colab_type": "code",
        "colab": {}
      },
      "source": [
        "import pandas as pd"
      ],
      "execution_count": 8,
      "outputs": []
    },
    {
      "cell_type": "code",
      "metadata": {
        "id": "Tjvp0bru5QdF",
        "colab_type": "code",
        "colab": {}
      },
      "source": [
        "ts = [\n",
        "    '2019-01-01', \n",
        "    '2019-01-02',\n",
        "    '2019-01-08', \n",
        "    '2019-02-01', \n",
        "    '2019-02-02',\n",
        "    '2019-02-05',\n",
        "]\n"
      ],
      "execution_count": 1,
      "outputs": []
    },
    {
      "cell_type": "code",
      "metadata": {
        "id": "FHlSYHfU6YUY",
        "colab_type": "code",
        "colab": {
          "base_uri": "https://localhost:8080/",
          "height": 35
        },
        "outputId": "86f3bcca-5990-4252-8e8b-65585eb2132e"
      },
      "source": [
        "import datetime\n",
        "\n",
        "x = datetime.datetime.now()\n",
        "print(x)"
      ],
      "execution_count": 5,
      "outputs": [
        {
          "output_type": "stream",
          "text": [
            "2020-08-01 02:47:44.364396\n"
          ],
          "name": "stdout"
        }
      ]
    },
    {
      "cell_type": "code",
      "metadata": {
        "id": "snEzyyJG5RnO",
        "colab_type": "code",
        "colab": {
          "base_uri": "https://localhost:8080/",
          "height": 124
        },
        "outputId": "dbf26f02-4bc2-4795-fdd0-fb9d1e22f238"
      },
      "source": [
        "output = []\n",
        "i = 1\n",
        "for item in ts:\n",
        "  if(i==1):\n",
        "    items = [item]\n",
        "  else:\n",
        "    \n"
      ],
      "execution_count": 3,
      "outputs": [
        {
          "output_type": "execute_result",
          "data": {
            "text/plain": [
              "['2019-01-01',\n",
              " '2019-01-02',\n",
              " '2019-01-08',\n",
              " '2019-02-01',\n",
              " '2019-02-02',\n",
              " '2019-02-05']"
            ]
          },
          "metadata": {
            "tags": []
          },
          "execution_count": 3
        }
      ]
    },
    {
      "cell_type": "code",
      "metadata": {
        "id": "5eubb1T07OyV",
        "colab_type": "code",
        "colab": {
          "base_uri": "https://localhost:8080/",
          "height": 141
        },
        "outputId": "b12af67c-7a5d-4d62-892f-eb3e055d9c36"
      },
      "source": [
        "ts = pd.DataFrame(ts, columns = ['date'])\n",
        "ts['week'] = pd.to_datetime(ts.date).dt.week\n",
        "print(ts)\n",
        "output=ts.groupby('week')['date'].apply(list).tolist()"
      ],
      "execution_count": 19,
      "outputs": [
        {
          "output_type": "stream",
          "text": [
            "         date  week\n",
            "0  2019-01-01     1\n",
            "1  2019-01-02     1\n",
            "2  2019-01-08     2\n",
            "3  2019-02-01     5\n",
            "4  2019-02-02     5\n",
            "5  2019-02-05     6\n"
          ],
          "name": "stdout"
        }
      ]
    },
    {
      "cell_type": "code",
      "metadata": {
        "id": "BcUkbJSu7UvO",
        "colab_type": "code",
        "colab": {
          "base_uri": "https://localhost:8080/",
          "height": 88
        },
        "outputId": "58ae7a2a-5d99-4bef-cd87-12b769eb43c0"
      },
      "source": [
        "output"
      ],
      "execution_count": 14,
      "outputs": [
        {
          "output_type": "execute_result",
          "data": {
            "text/plain": [
              "[['2019-01-01', '2019-01-02'],\n",
              " ['2019-01-08'],\n",
              " ['2019-02-01', '2019-02-02'],\n",
              " ['2019-02-05']]"
            ]
          },
          "metadata": {
            "tags": []
          },
          "execution_count": 14
        }
      ]
    }
  ]
}