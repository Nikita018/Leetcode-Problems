{
  "nbformat": 4,
  "nbformat_minor": 0,
  "metadata": {
    "colab": {
      "name": "Coin Change.ipynb",
      "provenance": [],
      "authorship_tag": "ABX9TyPU6Rlb4fF7gr8SgxmFtPHq",
      "include_colab_link": true
    },
    "kernelspec": {
      "name": "python3",
      "display_name": "Python 3"
    }
  },
  "cells": [
    {
      "cell_type": "markdown",
      "metadata": {
        "id": "view-in-github",
        "colab_type": "text"
      },
      "source": [
        "<a href=\"https://colab.research.google.com/github/Nikita018/Leetcode-Problems/blob/master/June/Coin_Change.ipynb\" target=\"_parent\"><img src=\"https://colab.research.google.com/assets/colab-badge.svg\" alt=\"Open In Colab\"/></a>"
      ]
    },
    {
      "cell_type": "code",
      "metadata": {
        "id": "YmDWTc9RxgDN",
        "colab_type": "code",
        "colab": {}
      },
      "source": [
        "'''\n",
        "You are given coins of different denominations and a total amount of money. Write a function to compute the number of combinations that make up that amount. You may assume that you have infinite number of each kind of coin.\n",
        "\n",
        " \n",
        "\n",
        "Example 1:\n",
        "\n",
        "Input: amount = 5, coins = [1, 2, 5]\n",
        "Output: 4\n",
        "Explanation: there are four ways to make up the amount:\n",
        "5=5\n",
        "5=2+2+1\n",
        "5=2+1+1+1\n",
        "5=1+1+1+1+1\n",
        "Example 2:\n",
        "\n",
        "Input: amount = 3, coins = [2]\n",
        "Output: 0\n",
        "Explanation: the amount of 3 cannot be made up just with coins of 2.\n",
        "Example 3:\n",
        "\n",
        "Input: amount = 10, coins = [10] \n",
        "Output: 1\n",
        "'''"
      ],
      "execution_count": 0,
      "outputs": []
    },
    {
      "cell_type": "code",
      "metadata": {
        "id": "-rE3g8OcxmHl",
        "colab_type": "code",
        "colab": {}
      },
      "source": [
        "class Solution:\n",
        "    def change(self, amount: int, coins: List[int]) -> int:\n",
        "        amt = [0]* (amount+1)\n",
        "        amt[0] = 1\n",
        "        \n",
        "        for coin in coins:\n",
        "            for idx in range(coin,amount+1):\n",
        "                amt[idx] += amt[idx-coin]\n",
        "        return amt[amount]        "
      ],
      "execution_count": 0,
      "outputs": []
    }
  ]
}