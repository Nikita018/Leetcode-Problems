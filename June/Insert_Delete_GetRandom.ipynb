{
  "nbformat": 4,
  "nbformat_minor": 0,
  "metadata": {
    "colab": {
      "name": "Insert Delete GetRandom.ipynb",
      "provenance": [],
      "authorship_tag": "ABX9TyO8PUVTZ0/nz4/gCCduL+/8",
      "include_colab_link": true
    },
    "kernelspec": {
      "name": "python3",
      "display_name": "Python 3"
    }
  },
  "cells": [
    {
      "cell_type": "markdown",
      "metadata": {
        "id": "view-in-github",
        "colab_type": "text"
      },
      "source": [
        "<a href=\"https://colab.research.google.com/github/Nikita018/Leetcode-Problems/blob/master/June/Insert_Delete_GetRandom.ipynb\" target=\"_parent\"><img src=\"https://colab.research.google.com/assets/colab-badge.svg\" alt=\"Open In Colab\"/></a>"
      ]
    },
    {
      "cell_type": "code",
      "metadata": {
        "id": "4cuS7bf4fZ0O",
        "colab_type": "code",
        "colab": {}
      },
      "source": [
        "'''\n",
        "Design a data structure that supports all following operations in average O(1) time.\n",
        "\n",
        "insert(val): Inserts an item val to the set if not already present.\n",
        "remove(val): Removes an item val from the set if present.\n",
        "getRandom: Returns a random element from current set of elements. Each element must have the same probability of being returned.\n",
        "'''"
      ],
      "execution_count": 0,
      "outputs": []
    },
    {
      "cell_type": "code",
      "metadata": {
        "id": "8junDAUDftCi",
        "colab_type": "code",
        "colab": {
          "base_uri": "https://localhost:8080/",
          "height": 68
        },
        "outputId": "6b42efbd-21a2-4ebb-e458-f4fe0ff5fed2"
      },
      "source": [
        "class RandomizedSet:\n",
        "\n",
        "    def __init__(self):\n",
        "        \"\"\"\n",
        "        Initialize your data structure here.\n",
        "        \"\"\"\n",
        "        self.d = {}\n",
        "        self.l = []\n",
        "\n",
        "    def insert(self, val: int) -> bool:\n",
        "        \"\"\"\n",
        "        Inserts a value to the set. Returns true if the set did not already contain the specified element.\n",
        "        \"\"\"\n",
        "        if val in self.d:\n",
        "            return False\n",
        "        else:\n",
        "            n = len(self.l)\n",
        "            self.d[val]=n\n",
        "            self.l.append(val)\n",
        "            return True\n",
        "          \n",
        "    def remove(self, val: int) -> bool:\n",
        "        \"\"\"\n",
        "        Removes a value from the set. Returns true if the set contained the specified element.\n",
        "        \"\"\"\n",
        "        if val in self.d:\n",
        "            last_element, idx_val_del = self.l[-1], self.d[val]\n",
        "            self.l[idx_val_del], self.d[last_element] = last_element, idx_val_del\n",
        "            del self.d[val]\n",
        "            self.l.pop()\n",
        "            return True\n",
        "        else:\n",
        "            return False\n",
        "\n",
        "\n",
        "        \n",
        "\n",
        "    def getRandom(self) -> int:\n",
        "        \"\"\"\n",
        "        Get a random element from the set.\n",
        "        \"\"\"\n",
        "        return choice(self.l)"
      ],
      "execution_count": 20,
      "outputs": [
        {
          "output_type": "stream",
          "text": [
            "False\n",
            "False\n",
            "None\n"
          ],
          "name": "stdout"
        }
      ]
    },
    {
      "cell_type": "code",
      "metadata": {
        "id": "CekrnflaiEfR",
        "colab_type": "code",
        "colab": {}
      },
      "source": [
        ""
      ],
      "execution_count": 0,
      "outputs": []
    }
  ]
}