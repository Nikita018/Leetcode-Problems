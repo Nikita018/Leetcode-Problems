{
  "nbformat": 4,
  "nbformat_minor": 0,
  "metadata": {
    "colab": {
      "name": "InvertBinaryTree.ipynb",
      "provenance": [],
      "authorship_tag": "ABX9TyOTiHJHVhW3RoXZ6oC5V5ik",
      "include_colab_link": true
    },
    "kernelspec": {
      "name": "python3",
      "display_name": "Python 3"
    }
  },
  "cells": [
    {
      "cell_type": "markdown",
      "metadata": {
        "id": "view-in-github",
        "colab_type": "text"
      },
      "source": [
        "<a href=\"https://colab.research.google.com/github/Nikita018/Leetcode-Problems/blob/master/June/InvertBinaryTree.ipynb\" target=\"_parent\"><img src=\"https://colab.research.google.com/assets/colab-badge.svg\" alt=\"Open In Colab\"/></a>"
      ]
    },
    {
      "cell_type": "code",
      "metadata": {
        "id": "bYoQYRKdPXha",
        "colab_type": "code",
        "colab": {}
      },
      "source": [
        "\"\"\"\n",
        "Inverting Binary Tree below,\n",
        "     1\n",
        "   /   \\\n",
        "  2     3\n",
        " / \\   / \\\n",
        "4   5 6   7\n",
        "\n",
        "Output will be below binary tree.\n",
        "     1\n",
        "   /   \\\n",
        "  3     2\n",
        " / \\   / \\\n",
        "7   6 5   4\n",
        "\n",
        "------------------------------------\n",
        "\n",
        "Inverting Binary Tree below,\n",
        "     1\n",
        "   /   \\\n",
        "  2     3\n",
        " /       \\\n",
        "4         7\n",
        "\n",
        "------------\n",
        "Output will be below binary tree.\n",
        "     1\n",
        "   /   \\\n",
        "  3     2\n",
        " /       \\\n",
        "7         4\n",
        "\n",
        "Time Complexity: O(n)\n",
        "Space Complexity: O(1)\n",
        "\"\"\""
      ],
      "execution_count": 0,
      "outputs": []
    },
    {
      "cell_type": "code",
      "metadata": {
        "id": "C-R4aJbbNKtV",
        "colab_type": "code",
        "colab": {}
      },
      "source": [
        "class TreeNode:\n",
        "  def __init__(self,x):\n",
        "    self.val = x\n",
        "    self.left = None\n",
        "    self.right = None"
      ],
      "execution_count": 0,
      "outputs": []
    },
    {
      "cell_type": "code",
      "metadata": {
        "id": "o5nSv5nPNZOU",
        "colab_type": "code",
        "colab": {}
      },
      "source": [
        "def invertTree(node):\n",
        "\n",
        "  if node is None:\n",
        "    return None\n",
        "  node.left, node.right = node.right, node.left\n",
        "  invertTree(node.left)\n",
        "  invertTree(node.right)\n",
        "  return node\n"
      ],
      "execution_count": 0,
      "outputs": []
    },
    {
      "cell_type": "code",
      "metadata": {
        "id": "yCJgWcvrNZxS",
        "colab_type": "code",
        "colab": {}
      },
      "source": [
        "sample_tree = TreeNode(1)\n",
        "sample_tree.left = TreeNode(2)\n",
        "sample_tree.right = TreeNode(3)\n",
        "sample_tree.left.left = TreeNode(4)\n",
        "sample_tree.left.right = TreeNode(5)\n",
        "sample_tree.right.left = TreeNode(6)\n",
        "sample_tree.right.right = TreeNode(7)\n",
        "\n",
        "\n",
        "\n",
        "Inverted_Tree = invertTree(sample_tree)"
      ],
      "execution_count": 0,
      "outputs": []
    },
    {
      "cell_type": "code",
      "metadata": {
        "id": "DnFjVDKjNdZg",
        "colab_type": "code",
        "colab": {}
      },
      "source": [
        "def printTree(root):\n",
        "  print(root.val)\n",
        "  if root.left:\n",
        "    printTree(root.left)\n",
        "  if root.right:\n",
        "    printTree(root.right)"
      ],
      "execution_count": 0,
      "outputs": []
    },
    {
      "cell_type": "code",
      "metadata": {
        "id": "dGWUD7pvNeex",
        "colab_type": "code",
        "colab": {
          "base_uri": "https://localhost:8080/",
          "height": 136
        },
        "outputId": "973663f5-d081-4d9a-bb88-1186fea8ee77"
      },
      "source": [
        "printTree(Inverted_Tree)"
      ],
      "execution_count": 17,
      "outputs": [
        {
          "output_type": "stream",
          "text": [
            "1\n",
            "3\n",
            "7\n",
            "6\n",
            "2\n",
            "5\n",
            "4\n"
          ],
          "name": "stdout"
        }
      ]
    },
    {
      "cell_type": "code",
      "metadata": {
        "id": "lAMgaoJTOwWL",
        "colab_type": "code",
        "colab": {}
      },
      "source": [
        ""
      ],
      "execution_count": 0,
      "outputs": []
    }
  ]
}