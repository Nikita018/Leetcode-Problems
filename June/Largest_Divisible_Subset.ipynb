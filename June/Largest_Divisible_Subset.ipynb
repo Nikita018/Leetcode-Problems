{
  "nbformat": 4,
  "nbformat_minor": 0,
  "metadata": {
    "colab": {
      "name": "Largest Divisible Subset.ipynb",
      "provenance": [],
      "collapsed_sections": [],
      "authorship_tag": "ABX9TyN+2hAeb59ckTbeAIA3tBAk",
      "include_colab_link": true
    },
    "kernelspec": {
      "name": "python3",
      "display_name": "Python 3"
    }
  },
  "cells": [
    {
      "cell_type": "markdown",
      "metadata": {
        "id": "view-in-github",
        "colab_type": "text"
      },
      "source": [
        "<a href=\"https://colab.research.google.com/github/Nikita018/Leetcode-Problems/blob/master/June/Largest_Divisible_Subset.ipynb\" target=\"_parent\"><img src=\"https://colab.research.google.com/assets/colab-badge.svg\" alt=\"Open In Colab\"/></a>"
      ]
    },
    {
      "cell_type": "code",
      "metadata": {
        "id": "3v37U4qq2k1B",
        "colab_type": "code",
        "colab": {}
      },
      "source": [
        "'''\n",
        "Given a set of distinct positive integers, find the largest subset such that every pair (Si, Sj) of elements in this subset satisfies:\n",
        "\n",
        "Si % Sj = 0 or Sj % Si = 0.\n",
        "\n",
        "If there are multiple solutions, return any subset is fine.\n",
        "\n",
        "Example 1:\n",
        "\n",
        "Input: [1,2,3]\n",
        "Output: [1,2] (of course, [1,3] will also be ok)\n",
        "Example 2:\n",
        "\n",
        "Input: [1,2,4,8]\n",
        "Output: [1,2,4,8]\n",
        "'''"
      ],
      "execution_count": 0,
      "outputs": []
    },
    {
      "cell_type": "code",
      "metadata": {
        "id": "v0dA96Lw2mXN",
        "colab_type": "code",
        "colab": {
          "base_uri": "https://localhost:8080/",
          "height": 50
        },
        "outputId": "fdbf462a-1c07-49e6-9a93-449ed56e5ae2"
      },
      "source": [
        "def largestDivisibleSubset(nums):\n",
        "  if len(nums)==0:\n",
        "    return []\n",
        "  nums.sort()\n",
        "  Result = [[num] for num in nums]\n",
        "\n",
        "  for i in range(len(nums)):\n",
        "    for j in range(i):\n",
        "\n",
        "      if(nums[i]%nums[j]==0 and len(Result[i])<len(Result[j]) + 1):\n",
        "        Result[i]=Result[j]+[nums[i]]\n",
        "  print(Result)\n",
        "  return max(Result, key=len)\n",
        "\n",
        "\n",
        "\n",
        "A = [1,4,3]\n",
        "result = largestDivisibleSubset(A)\n",
        "print(result)\n"
      ],
      "execution_count": 16,
      "outputs": [
        {
          "output_type": "stream",
          "text": [
            "[[1], [1, 3], [1, 4]]\n",
            "[1, 3]\n"
          ],
          "name": "stdout"
        }
      ]
    },
    {
      "cell_type": "code",
      "metadata": {
        "id": "HxjksrqboMkM",
        "colab_type": "code",
        "colab": {
          "base_uri": "https://localhost:8080/",
          "height": 34
        },
        "outputId": "8ad2e860-d9bb-4a6f-a395-07f91048ac30"
      },
      "source": [
        "A = [[1,4,3], [1,2]]\n",
        "max(A, key=len)\n"
      ],
      "execution_count": 15,
      "outputs": [
        {
          "output_type": "execute_result",
          "data": {
            "text/plain": [
              "[1, 4, 3]"
            ]
          },
          "metadata": {
            "tags": []
          },
          "execution_count": 15
        }
      ]
    },
    {
      "cell_type": "code",
      "metadata": {
        "id": "G3ME9VEvoTqF",
        "colab_type": "code",
        "colab": {}
      },
      "source": [
        ""
      ],
      "execution_count": 0,
      "outputs": []
    }
  ]
}