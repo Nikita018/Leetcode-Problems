{
  "nbformat": 4,
  "nbformat_minor": 0,
  "metadata": {
    "colab": {
      "name": "Power of two.ipynb",
      "provenance": [],
      "authorship_tag": "ABX9TyOgdJWHQ+jFKdphe/uzGQiE",
      "include_colab_link": true
    },
    "kernelspec": {
      "name": "python3",
      "display_name": "Python 3"
    }
  },
  "cells": [
    {
      "cell_type": "markdown",
      "metadata": {
        "id": "view-in-github",
        "colab_type": "text"
      },
      "source": [
        "<a href=\"https://colab.research.google.com/github/Nikita018/Leetcode-Problems/blob/master/June/Power_of_two.ipynb\" target=\"_parent\"><img src=\"https://colab.research.google.com/assets/colab-badge.svg\" alt=\"Open In Colab\"/></a>"
      ]
    },
    {
      "cell_type": "code",
      "metadata": {
        "id": "4Ubq_NSG20Gr",
        "colab_type": "code",
        "colab": {}
      },
      "source": [
        "'''\n",
        "Given an integer, write a function to determine if it is a power of two.\n",
        "\n",
        "Example 1:\n",
        "\n",
        "Input: 1\n",
        "Output: true \n",
        "Explanation: 20 = 1\n",
        "Example 2:\n",
        "\n",
        "Input: 16\n",
        "Output: true\n",
        "Explanation: 24 = 16\n",
        "Example 3:\n",
        "\n",
        "Input: 218\n",
        "Output: false\n",
        "'''"
      ],
      "execution_count": 0,
      "outputs": []
    },
    {
      "cell_type": "code",
      "metadata": {
        "id": "Fc0PnDdc22km",
        "colab_type": "code",
        "colab": {}
      },
      "source": [
        "# Naive Solution\n",
        "# Time complexity - O(log n)\n",
        "# Space Complexity - O(1)\n",
        "class Solution:\n",
        "    def isPowerOfTwo(self, n: int) -> bool:\n",
        "        while(n%2==0):\n",
        "            n= n/2\n",
        "        if(n==1):\n",
        "            return True\n",
        "        else:\n",
        "            return False"
      ],
      "execution_count": 0,
      "outputs": []
    },
    {
      "cell_type": "code",
      "metadata": {
        "id": "fxB_ILHo3Opj",
        "colab_type": "code",
        "colab": {}
      },
      "source": [
        "# Bit Manipulation\n",
        "# Idea : The number that is power of two contain only single 1\n",
        "# 2's complement of the number is equal to the number in case of power of two\n",
        "# Time complexity - O(1)\n",
        "# Space Complexity - O(1)\n",
        "class Solution:\n",
        "    def isPowerOfTwo(self, n: int) -> bool:\n",
        "        if n==0:\n",
        "            return False\n",
        "        return n &(-n) == n"
      ],
      "execution_count": 0,
      "outputs": []
    }
  ]
}