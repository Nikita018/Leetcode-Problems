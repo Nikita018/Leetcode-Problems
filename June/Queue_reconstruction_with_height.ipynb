{
  "nbformat": 4,
  "nbformat_minor": 0,
  "metadata": {
    "colab": {
      "name": "Queue reconstruction with height.ipynb",
      "provenance": [],
      "authorship_tag": "ABX9TyOjPXwzz34GbPGqWi0j0l/b",
      "include_colab_link": true
    },
    "kernelspec": {
      "name": "python3",
      "display_name": "Python 3"
    }
  },
  "cells": [
    {
      "cell_type": "markdown",
      "metadata": {
        "id": "view-in-github",
        "colab_type": "text"
      },
      "source": [
        "<a href=\"https://colab.research.google.com/github/Nikita018/Leetcode-Problems/blob/master/June/Queue_reconstruction_with_height.ipynb\" target=\"_parent\"><img src=\"https://colab.research.google.com/assets/colab-badge.svg\" alt=\"Open In Colab\"/></a>"
      ]
    },
    {
      "cell_type": "code",
      "metadata": {
        "id": "RCCstlRPzIjg",
        "colab_type": "code",
        "colab": {}
      },
      "source": [
        "'''\n",
        "Suppose you have a random list of people standing in a queue. Each person is described by a pair of integers (h, k), where h is the height of the person and k is the number of people in front of this person who have a height greater than or equal to h. Write an algorithm to reconstruct the queue.\n",
        "\n",
        "Note:\n",
        "The number of people is less than 1,100.\n",
        "\n",
        " \n",
        "Example\n",
        "\n",
        "Input:\n",
        "[[7,0], [4,4], [7,1], [5,0], [6,1], [5,2]]\n",
        "\n",
        "Output:\n",
        "[[5,0], [7,0], [5,2], [6,1], [4,4], [7,1]]\n",
        "'''"
      ],
      "execution_count": 0,
      "outputs": []
    },
    {
      "cell_type": "code",
      "metadata": {
        "id": "hXiR6IblzM2B",
        "colab_type": "code",
        "colab": {
          "base_uri": "https://localhost:8080/",
          "height": 34
        },
        "outputId": "bc83315f-8d7d-4c66-b69c-8aed3a148ef0"
      },
      "source": [
        "def queue_reconstruction(people):\n",
        "  people.sort(key=lambda x:(x[0],-x[1]), reverse = True)\n",
        "  queue = []\n",
        "  for p in people:\n",
        "    queue.insert(p[1],p)\n",
        "  return queue\n",
        "  \n",
        "  \n",
        "\n",
        "\n",
        "\n",
        "\n",
        "\n",
        "\n",
        "#A = [(5,1),(4,1),(5,0)]\n",
        "#A = [[7,0], [4,4], [7,1], [5,0], [6,1], [5,2]]\n",
        "A = [[9,0],[7,0],[1,9],[3,0],[2,7],[5,3],[6,0],[3,4],[6,2],[5,2]]\n",
        "new_queue = queue_reconstruction(A) \n",
        "print(new_queue) "
      ],
      "execution_count": 81,
      "outputs": [
        {
          "output_type": "stream",
          "text": [
            "[[3, 0], [6, 0], [7, 0], [5, 2], [3, 4], [5, 3], [6, 2], [2, 7], [9, 0], [1, 9]]\n"
          ],
          "name": "stdout"
        }
      ]
    }
  ]
}