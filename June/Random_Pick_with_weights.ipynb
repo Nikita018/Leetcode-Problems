{
  "nbformat": 4,
  "nbformat_minor": 0,
  "metadata": {
    "colab": {
      "name": "Random Pick with weights.ipynb",
      "provenance": [],
      "authorship_tag": "ABX9TyPvg8pqtgX3SG0dkDHVnp6B",
      "include_colab_link": true
    },
    "kernelspec": {
      "name": "python3",
      "display_name": "Python 3"
    }
  },
  "cells": [
    {
      "cell_type": "markdown",
      "metadata": {
        "id": "view-in-github",
        "colab_type": "text"
      },
      "source": [
        "<a href=\"https://colab.research.google.com/github/Nikita018/Leetcode-Problems/blob/master/June/Random_Pick_with_weights.ipynb\" target=\"_parent\"><img src=\"https://colab.research.google.com/assets/colab-badge.svg\" alt=\"Open In Colab\"/></a>"
      ]
    },
    {
      "cell_type": "code",
      "metadata": {
        "id": "6wc8Affggemc",
        "colab_type": "code",
        "colab": {}
      },
      "source": [
        "'''\n",
        "Given an array w of positive integers, where w[i] describes the weight of index i, write a function pickIndex which randomly picks an index in proportion to its weight.\n",
        "\n",
        "Note:\n",
        "\n",
        "1 <= w.length <= 10000\n",
        "1 <= w[i] <= 10^5\n",
        "pickIndex will be called at most 10000 times.\n",
        "Example 1:\n",
        "\n",
        "Input: \n",
        "[\"Solution\",\"pickIndex\"]\n",
        "[[[1]],[]]\n",
        "Output: [null,0]\n",
        "Example 2:\n",
        "\n",
        "Input: \n",
        "[\"Solution\",\"pickIndex\",\"pickIndex\",\"pickIndex\",\"pickIndex\",\"pickIndex\"]\n",
        "[[[1,3]],[],[],[],[],[]]\n",
        "Output: [null,0,1,1,1,0]\n",
        "'''"
      ],
      "execution_count": 0,
      "outputs": []
    },
    {
      "cell_type": "code",
      "metadata": {
        "id": "fg8KMjn_s54r",
        "colab_type": "code",
        "colab": {
          "base_uri": "https://localhost:8080/",
          "height": 34
        },
        "outputId": "561fd7fd-f6a5-44b4-d6c3-53d69dc34719"
      },
      "source": [
        "# Complexity : n + klogn ; k : number of times function pickindex is called\n",
        "\n",
        "class Solution:\n",
        "\n",
        "    def __init__(self, w: List[int]):\n",
        "        self.prefix_sum = []\n",
        "        running_sum = 0\n",
        "        self.total_sum = sum(w)\n",
        "        for weight in w:\n",
        "            running_sum += weight\n",
        "            self.prefix_sum.append(running_sum)\n",
        "            #print(self.prefix_sum)\n",
        "\n",
        "\n",
        "    def pickIndex(self) -> int:\n",
        "        import numpy as np\n",
        "        num=np.random.uniform(0,self.total_sum,1)\n",
        "        # Using Binary search algorithm\n",
        "        start,end = 0, len(self.prefix_sum)\n",
        "        while start < end:\n",
        "            mid = start + (end-start)//2\n",
        "            if num > self.prefix_sum[mid]:\n",
        "                start = mid + 1\n",
        "            else:\n",
        "                end = mid\n",
        "        return start\n",
        "        \n",
        "\n",
        "# Preactise work\n",
        "\n",
        "# import random\n",
        "# w = [1,3]\n",
        "# sum_w = sum(w)\n",
        "# # Step 1 : Find Prefix sum\n",
        "# prefix_sum = []\n",
        "# for idx in range(len(w)):\n",
        "#   if(idx == 0):\n",
        "#     prefix_sum.append(w[idx])\n",
        "#   else:\n",
        "#     prefix_sum.append(prefix_sum[idx-1]+w[idx])\n",
        "# #print(prefix_sum)\n",
        "\n",
        "# arr = []\n",
        "# #Step 2 : Generate random number and check for random number in prefix sum\n",
        "# for i in range(sum_w):\n",
        "#   num=np.random.uniform(0,self.total_sum,1)\n",
        "#     start,end = 0. self.total_sum\n",
        "#     while start < end:\n",
        "#       mid = start + (end-start)//2\n",
        "#       if num > self.prefix_sum[mid]:\n",
        "#         start = mid + 1\n",
        "#       else:\n",
        "#         end = mid\n",
        "#     return start\n",
        "\n",
        "# arr\n"
      ],
      "execution_count": 78,
      "outputs": [
        {
          "output_type": "execute_result",
          "data": {
            "text/plain": [
              "[1, 1, 1, 1]"
            ]
          },
          "metadata": {
            "tags": []
          },
          "execution_count": 78
        }
      ]
    },
    {
      "cell_type": "code",
      "metadata": {
        "id": "RNGY3_-qJS33",
        "colab_type": "code",
        "colab": {}
      },
      "source": [
        ""
      ],
      "execution_count": 0,
      "outputs": []
    }
  ]
}