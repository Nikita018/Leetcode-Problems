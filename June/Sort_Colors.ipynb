{
  "nbformat": 4,
  "nbformat_minor": 0,
  "metadata": {
    "colab": {
      "name": "Sort Colors.ipynb",
      "provenance": [],
      "authorship_tag": "ABX9TyPT/9gccSkA0YQqN56zzWyO",
      "include_colab_link": true
    },
    "kernelspec": {
      "name": "python3",
      "display_name": "Python 3"
    }
  },
  "cells": [
    {
      "cell_type": "markdown",
      "metadata": {
        "id": "view-in-github",
        "colab_type": "text"
      },
      "source": [
        "<a href=\"https://colab.research.google.com/github/Nikita018/Leetcode-Problems/blob/master/June/Sort_Colors.ipynb\" target=\"_parent\"><img src=\"https://colab.research.google.com/assets/colab-badge.svg\" alt=\"Open In Colab\"/></a>"
      ]
    },
    {
      "cell_type": "code",
      "metadata": {
        "id": "pQl-CHm9eBcM",
        "colab_type": "code",
        "colab": {}
      },
      "source": [
        "'''\n",
        "Given an array with n objects colored red, white or blue, sort them in-place so that objects of the same color are adjacent, with the colors in the order red, white and blue.\n",
        "\n",
        "Here, we will use the integers 0, 1, and 2 to represent the color red, white, and blue respectively.\n",
        "\n",
        "Note: You are not suppose to use the library's sort function for this problem.\n",
        "\n",
        "Example:\n",
        "\n",
        "Input: [2,0,2,1,1,0]\n",
        "Output: [0,0,1,1,2,2]\n",
        "Follow up:\n",
        "\n",
        "A rather straight forward solution is a two-pass algorithm using counting sort.\n",
        "First, iterate the array counting number of 0's, 1's, and 2's, then overwrite array with total number of 0's, then 1's and followed by 2's.\n",
        "Could you come up with a one-pass algorithm using only constant space?\n",
        "'''"
      ],
      "execution_count": 0,
      "outputs": []
    },
    {
      "cell_type": "code",
      "metadata": {
        "id": "Q-ocZhS-ehlL",
        "colab_type": "code",
        "colab": {
          "base_uri": "https://localhost:8080/",
          "height": 34
        },
        "outputId": "9e6add07-eefb-47cc-f607-1678d1e3f5e9"
      },
      "source": [
        "def sort_colors(nums):\n",
        "  curr, L, R=0,0,len(nums)-1\n",
        "  while(curr <= R):\n",
        "    if(nums[curr] == 2):\n",
        "      nums[curr], nums[R] = nums[R], nums[curr]\n",
        "      R -= 1\n",
        "    elif(nums[curr] == 0):\n",
        "      nums[curr], nums[L] = nums[L] , nums[curr]\n",
        "      curr += 1\n",
        "      L += 1\n",
        "    else:\n",
        "      curr += 1      \n",
        "  return nums\n",
        "\n",
        "nums = [2,0,2,1,1,0]\n",
        "sort_colors(nums)"
      ],
      "execution_count": 6,
      "outputs": [
        {
          "output_type": "execute_result",
          "data": {
            "text/plain": [
              "[0, 0, 1, 1, 2, 2]"
            ]
          },
          "metadata": {
            "tags": []
          },
          "execution_count": 6
        }
      ]
    },
    {
      "cell_type": "code",
      "metadata": {
        "id": "9YvioT-Riahv",
        "colab_type": "code",
        "colab": {}
      },
      "source": [
        ""
      ],
      "execution_count": 0,
      "outputs": []
    }
  ]
}