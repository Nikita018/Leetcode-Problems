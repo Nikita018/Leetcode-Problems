{
  "nbformat": 4,
  "nbformat_minor": 0,
  "metadata": {
    "colab": {
      "name": "isSubsequence.ipynb",
      "provenance": [],
      "authorship_tag": "ABX9TyNkSI48MvpAbCVu2SxhpHMT",
      "include_colab_link": true
    },
    "kernelspec": {
      "name": "python3",
      "display_name": "Python 3"
    }
  },
  "cells": [
    {
      "cell_type": "markdown",
      "metadata": {
        "id": "view-in-github",
        "colab_type": "text"
      },
      "source": [
        "<a href=\"https://colab.research.google.com/github/Nikita018/Leetcode-Problems/blob/master/June/isSubsequence.ipynb\" target=\"_parent\"><img src=\"https://colab.research.google.com/assets/colab-badge.svg\" alt=\"Open In Colab\"/></a>"
      ]
    },
    {
      "cell_type": "code",
      "metadata": {
        "id": "zbX_Co2KIOBE",
        "colab_type": "code",
        "colab": {}
      },
      "source": [
        "'''\n",
        "Given a string s and a string t, check if s is subsequence of t.\n",
        "\n",
        "A subsequence of a string is a new string which is formed from the original string by deleting some (can be none) of the characters without disturbing the relative positions of the remaining characters. (ie, \"ace\" is a subsequence of \"abcde\" while \"aec\" is not).\n",
        "\n",
        "Follow up:\n",
        "If there are lots of incoming S, say S1, S2, ... , Sk where k >= 1B, and you want to check one by one to see if T has its subsequence. In this scenario, how would you change your code?\n",
        "\n",
        "\n",
        "Example 1:\n",
        "\n",
        "Input: s = \"abc\", t = \"ahbgdc\"\n",
        "Output: true\n",
        "Example 2:\n",
        "\n",
        "Input: s = \"axc\", t = \"ahbgdc\"\n",
        "Output: false\n",
        " \n",
        "\n",
        "Constraints:\n",
        "\n",
        "0 <= s.length <= 100\n",
        "0 <= t.length <= 10^4\n",
        "Both strings consists only of lowercase characters.\n",
        "'''"
      ],
      "execution_count": 0,
      "outputs": []
    },
    {
      "cell_type": "code",
      "metadata": {
        "id": "grDSKL4PIUsL",
        "colab_type": "code",
        "colab": {
          "base_uri": "https://localhost:8080/",
          "height": 34
        },
        "outputId": "ee1a8326-0fc1-49ba-dc44-d29de93d453c"
      },
      "source": [
        "def isSubsequence(s,t):\n",
        "  i,j=0,0\n",
        "  i,j=0,0\n",
        "  while(i < len(t) and j < len(s)):\n",
        "      if(t[i]==s[j]):\n",
        "          i,j=i+1,j+1\n",
        "      else:\n",
        "          i += 1\n",
        "  return j==len(s)\n",
        "\n",
        "s = 'leetcode'\n",
        "t = 'yyyyyyyyyyyyyyyyyyyyyyyyyyyyyyyyyyyyyyyyyyyyyyylyyyyyyyyyyyyyyyyyyyyyyyyyyyy'\n",
        "result = isSubsequence(s,t)\n",
        "print(result)"
      ],
      "execution_count": 14,
      "outputs": [
        {
          "output_type": "stream",
          "text": [
            "False\n"
          ],
          "name": "stdout"
        }
      ]
    },
    {
      "cell_type": "code",
      "metadata": {
        "id": "PbRS6ryKI92a",
        "colab_type": "code",
        "colab": {}
      },
      "source": [
        ""
      ],
      "execution_count": 0,
      "outputs": []
    }
  ]
}