{
  "nbformat": 4,
  "nbformat_minor": 0,
  "metadata": {
    "colab": {
      "name": "searchInsertPosition.ipynb",
      "provenance": [],
      "authorship_tag": "ABX9TyO5diEC126nROWSFTTGHQ/0",
      "include_colab_link": true
    },
    "kernelspec": {
      "name": "python3",
      "display_name": "Python 3"
    }
  },
  "cells": [
    {
      "cell_type": "markdown",
      "metadata": {
        "id": "view-in-github",
        "colab_type": "text"
      },
      "source": [
        "<a href=\"https://colab.research.google.com/github/Nikita018/Leetcode-Problems/blob/master/June/searchInsertPosition.ipynb\" target=\"_parent\"><img src=\"https://colab.research.google.com/assets/colab-badge.svg\" alt=\"Open In Colab\"/></a>"
      ]
    },
    {
      "cell_type": "code",
      "metadata": {
        "id": "r_Lsbuk1Wxot",
        "colab_type": "code",
        "colab": {}
      },
      "source": [
        "'''Given a sorted array and a target value, return the index if the target is found. If not, return the index where it would be if it were inserted in order.\n",
        "\n",
        "You may assume no duplicates in the array.\n",
        "\n",
        "Example 1:\n",
        "\n",
        "Input: [1,3,5,6], 5\n",
        "Output: 2\n",
        "Example 2:\n",
        "\n",
        "Input: [1,3,5,6], 2\n",
        "Output: 1\n",
        "Example 3:\n",
        "\n",
        "Input: [1,3,5,6], 7\n",
        "Output: 4\n",
        "Example 4:\n",
        "\n",
        "Input: [1,3,5,6], 0\n",
        "Output: 0\n",
        "'''"
      ],
      "execution_count": 0,
      "outputs": []
    },
    {
      "cell_type": "code",
      "metadata": {
        "id": "Zbk2QDAcW2mk",
        "colab_type": "code",
        "colab": {
          "base_uri": "https://localhost:8080/",
          "height": 34
        },
        "outputId": "c95b6009-0211-4237-91de-d44a4b822e58"
      },
      "source": [
        "def searchInsertPosition(nums,target):\n",
        "  lo = -1\n",
        "  hi = len(nums)\n",
        "  while(lo+1<hi):\n",
        "    mid = lo + (hi-lo)//2\n",
        "    if(nums[mid]==target):\n",
        "      return mid\n",
        "    if(nums[mid]>target):\n",
        "      hi = mid\n",
        "    else:\n",
        "      lo = mid\n",
        "    \n",
        "  return lo+1\n",
        "\n",
        "\n",
        "A = [1,3,5,6]\n",
        "target = 7\n",
        "result = searchInsertPosition(A, target)\n",
        "print(result)\n"
      ],
      "execution_count": 21,
      "outputs": [
        {
          "output_type": "stream",
          "text": [
            "4\n"
          ],
          "name": "stdout"
        }
      ]
    }
  ]
}