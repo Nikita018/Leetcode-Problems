{
  "nbformat": 4,
  "nbformat_minor": 0,
  "metadata": {
    "colab": {
      "name": "Interview style data manipulation question.ipynb",
      "provenance": [],
      "collapsed_sections": [],
      "authorship_tag": "ABX9TyMehQAtg3WkQK2y56dlyMCI",
      "include_colab_link": true
    },
    "kernelspec": {
      "name": "python3",
      "display_name": "Python 3"
    }
  },
  "cells": [
    {
      "cell_type": "markdown",
      "metadata": {
        "id": "view-in-github",
        "colab_type": "text"
      },
      "source": [
        "<a href=\"https://colab.research.google.com/github/Nikita018/Leetcode-Problems/blob/master/Practise/Interview_style_data_manipulation_question.ipynb\" target=\"_parent\"><img src=\"https://colab.research.google.com/assets/colab-badge.svg\" alt=\"Open In Colab\"/></a>"
      ]
    },
    {
      "cell_type": "code",
      "metadata": {
        "id": "GGGoFPXoJLMo"
      },
      "source": [
        "# Interview Question\r\n",
        "\r\n",
        "You a have a file with the following records:\r\n",
        "\r\n",
        "product_id, retailer_id\r\n",
        "1, 100\r\n",
        "2, 200\r\n",
        "3, 300\r\n",
        "4, 100\r\n",
        "1, 200\r\n",
        "2, 300\r\n",
        "\r\n",
        "Write a function that accepts a retailer_id and returns the list of product_ids that only that retailer has.\r\n",
        "\r\n",
        "##################\r\n"
      ],
      "execution_count": null,
      "outputs": []
    },
    {
      "cell_type": "code",
      "metadata": {
        "colab": {
          "base_uri": "https://localhost:8080/"
        },
        "id": "woY68Ee-JMNw",
        "outputId": "d1b0a64b-6df1-4fda-e540-a3dc5b7b65a2"
      },
      "source": [
        "# mouting google drive\r\n",
        "from google.colab import drive\r\n",
        "drive.mount('/content/gdrive')"
      ],
      "execution_count": 1,
      "outputs": [
        {
          "output_type": "stream",
          "text": [
            "Mounted at /content/gdrive\n"
          ],
          "name": "stdout"
        }
      ]
    },
    {
      "cell_type": "code",
      "metadata": {
        "colab": {
          "base_uri": "https://localhost:8080/"
        },
        "id": "HgoPF2zFJ16j",
        "outputId": "081c0c0e-5fd8-49df-c6c1-1c21d0ca85d1"
      },
      "source": [
        "ls"
      ],
      "execution_count": 2,
      "outputs": [
        {
          "output_type": "stream",
          "text": [
            "\u001b[0m\u001b[01;34mgdrive\u001b[0m/  \u001b[01;34msample_data\u001b[0m/\n"
          ],
          "name": "stdout"
        }
      ]
    },
    {
      "cell_type": "code",
      "metadata": {
        "colab": {
          "base_uri": "https://localhost:8080/"
        },
        "id": "7Ev65vDYJrzT",
        "outputId": "416e5774-098e-470f-9863-bd1ed4d1e71f"
      },
      "source": [
        "cd 'gdrive/My Drive/Coding interview'"
      ],
      "execution_count": 5,
      "outputs": [
        {
          "output_type": "stream",
          "text": [
            "/content/gdrive/My Drive/Coding interview\n"
          ],
          "name": "stdout"
        }
      ]
    },
    {
      "cell_type": "code",
      "metadata": {
        "colab": {
          "base_uri": "https://localhost:8080/"
        },
        "id": "CjLAGpFfKtkQ",
        "outputId": "5c1c6725-cb38-4228-dab7-9335e4cea1f2"
      },
      "source": [
        "ls"
      ],
      "execution_count": 6,
      "outputs": [
        {
          "output_type": "stream",
          "text": [
            "Cracking_the_Coding_Interview_6th_Editio.pdf  retailer.csv\n"
          ],
          "name": "stdout"
        }
      ]
    },
    {
      "cell_type": "code",
      "metadata": {
        "colab": {
          "base_uri": "https://localhost:8080/"
        },
        "id": "oZL4lAlzJ9_J",
        "outputId": "14085831-483d-4708-8cab-7bf445775bca"
      },
      "source": [
        "with open('retailer.csv','r') as f:\r\n",
        "  results=[]\r\n",
        "  for line in f:\r\n",
        "    words = line.strip().split(',')\r\n",
        "    results.append((words[0],words[1]))\r\n",
        "  print(results)"
      ],
      "execution_count": 13,
      "outputs": [
        {
          "output_type": "stream",
          "text": [
            "[('product_id', 'retailer_id'), ('1', '100'), ('2', '200'), ('3', '300'), ('4', '100'), ('1', '200'), ('2', '300')]\n"
          ],
          "name": "stdout"
        }
      ]
    },
    {
      "cell_type": "code",
      "metadata": {
        "id": "BmmbL3aSLSP_"
      },
      "source": [
        "# creatng a mapping of products to retailer, then for only the products which are sold by a single retailer, we are mapping retailer to the product\r\n",
        "def retailer_product(results):\r\n",
        "  prod_to_retail = {}\r\n",
        "  for i in range(1,len(results)):\r\n",
        "    if(results[i][0] not in prod_to_retail.keys()):\r\n",
        "      prod_to_retail[results[i][0]] = [results[i][1]]\r\n",
        "    else:\r\n",
        "      prod_to_retail[results[i][0]].append(results[i][1])\r\n",
        "\r\n",
        "  retail_to_prod = {}\r\n",
        "  for key in prod_to_retail.keys():\r\n",
        "    if(len(prod_to_retail[key])==1):\r\n",
        "      if(prod_to_retail[key][0] not in retail_to_prod.keys()):\r\n",
        "        retail_to_prod[prod_to_retail[key][0]] = [key]\r\n",
        "      else:\r\n",
        "        retail_to_prod[prod_to_retail[key][0]].append(key)\r\n",
        "\r\n",
        "  return retail_to_prod\r\n",
        "\r\n",
        "# Product accepts retailer to product mapping for products for which the retailer is the sole seller\r\n",
        "def unq_prod_retailer(retail_to_prod,retailer_id):\r\n",
        "  if(retailer_id in retail_to_prod.keys()):\r\n",
        "    return retail_to_prod[retailer_id]"
      ],
      "execution_count": 30,
      "outputs": []
    },
    {
      "cell_type": "code",
      "metadata": {
        "colab": {
          "base_uri": "https://localhost:8080/"
        },
        "id": "rIQLL8ANP6b-",
        "outputId": "504a945f-3d8b-465e-daa0-5a75da2c9275"
      },
      "source": [
        "retail_to_prod = retailer_product(results)\r\n",
        "unq_prod_retailer(retail_to_prod,'300')"
      ],
      "execution_count": 36,
      "outputs": [
        {
          "output_type": "execute_result",
          "data": {
            "text/plain": [
              "['3']"
            ]
          },
          "metadata": {
            "tags": []
          },
          "execution_count": 36
        }
      ]
    }
  ]
}