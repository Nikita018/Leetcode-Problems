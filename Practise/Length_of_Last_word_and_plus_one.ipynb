{
  "nbformat": 4,
  "nbformat_minor": 0,
  "metadata": {
    "colab": {
      "name": "Length of Last word and plus one.ipynb",
      "provenance": [],
      "collapsed_sections": [],
      "authorship_tag": "ABX9TyPKdJ9EjeUGNY/IrxqRfgAj",
      "include_colab_link": true
    },
    "kernelspec": {
      "name": "python3",
      "display_name": "Python 3"
    }
  },
  "cells": [
    {
      "cell_type": "markdown",
      "metadata": {
        "id": "view-in-github",
        "colab_type": "text"
      },
      "source": [
        "<a href=\"https://colab.research.google.com/github/Nikita018/Leetcode-Problems/blob/master/Practise/Length_of_Last_word_and_plus_one.ipynb\" target=\"_parent\"><img src=\"https://colab.research.google.com/assets/colab-badge.svg\" alt=\"Open In Colab\"/></a>"
      ]
    },
    {
      "cell_type": "code",
      "metadata": {
        "id": "PnXTS35YEVHE"
      },
      "source": [
        "####################################################################################################\r\n",
        "58. Length of Last Word\r\n",
        "Easy\r\n",
        "\r\n",
        "920\r\n",
        "\r\n",
        "2927\r\n",
        "\r\n",
        "Add to List\r\n",
        "\r\n",
        "Share\r\n",
        "Given a string s consists of some words separated by spaces, return the length of the last word in the string. If the last word does not exist, return 0.\r\n",
        "\r\n",
        "A word is a maximal substring consisting of non-space characters only.\r\n",
        "\r\n",
        " \r\n",
        "\r\n",
        "Example 1:\r\n",
        "\r\n",
        "Input: s = \"Hello World\"\r\n",
        "Output: 5\r\n",
        "Example 2:\r\n",
        "\r\n",
        "Input: s = \" \"\r\n",
        "Output: 0\r\n",
        "####################################################################################################"
      ],
      "execution_count": null,
      "outputs": []
    },
    {
      "cell_type": "code",
      "metadata": {
        "colab": {
          "base_uri": "https://localhost:8080/"
        },
        "id": "YRH1BLkSEYd3",
        "outputId": "1e2e116a-6733-4392-87a7-921c7cde34d2"
      },
      "source": [
        "import re\r\n",
        "def lengthOfLastWord(s):\r\n",
        "  #defining a variable to store length\r\n",
        "  last_len = 0\r\n",
        "\r\n",
        "  #Replacing 2 or more spaces with one \r\n",
        "  s = re.sub('\\s{2,}', ' ', s)\r\n",
        "\r\n",
        "  #Case when there is nothing other than the space in the string\r\n",
        "  if(len(s)==0 or s==\" \"):\r\n",
        "    return last_len\r\n",
        "\r\n",
        "  # Splitting the sentence on single space\r\n",
        "  items = s.split()\r\n",
        "\r\n",
        "  return len(items[len(items)-1])\r\n",
        "\r\n",
        "  \r\n",
        "\r\n",
        "\r\n",
        "# s = \"Hello World\"\r\n",
        "s = \"a  \"\r\n",
        "# s = \"     \"\r\n",
        "lengthOfLastWord(s)"
      ],
      "execution_count": 29,
      "outputs": [
        {
          "output_type": "stream",
          "text": [
            "['a']\n"
          ],
          "name": "stdout"
        },
        {
          "output_type": "execute_result",
          "data": {
            "text/plain": [
              "1"
            ]
          },
          "metadata": {
            "tags": []
          },
          "execution_count": 29
        }
      ]
    },
    {
      "cell_type": "code",
      "metadata": {
        "id": "DFMKGcBQEvz8"
      },
      "source": [
        "##########################################################################################################\r\n",
        "Given a non-empty array of decimal digits representing a non-negative integer, increment one to the integer.\r\n",
        "\r\n",
        "The digits are stored such that the most significant digit is at the head of the list, and each element in the array contains a single digit.\r\n",
        "\r\n",
        "You may assume the integer does not contain any leading zero, except the number 0 itself.\r\n",
        "\r\n",
        " \r\n",
        "\r\n",
        "Example 1:\r\n",
        "\r\n",
        "Input: digits = [1,2,3]\r\n",
        "Output: [1,2,4]\r\n",
        "Explanation: The array represents the integer 123.\r\n",
        "Example 2:\r\n",
        "\r\n",
        "Input: digits = [4,3,2,1]\r\n",
        "Output: [4,3,2,2]\r\n",
        "Explanation: The array represents the integer 4321.\r\n",
        "###############################################################################################################"
      ],
      "execution_count": null,
      "outputs": []
    },
    {
      "cell_type": "code",
      "metadata": {
        "colab": {
          "base_uri": "https://localhost:8080/"
        },
        "id": "LO__SNPYLPRO",
        "outputId": "130712f0-dfb3-4a6f-cf6e-8f3ff056d0a6"
      },
      "source": [
        "def plusOne(digits):\r\n",
        "\r\n",
        "        # changing last index\r\n",
        "        if digits[-1] < 9:\r\n",
        "            digits[-1] = digits[-1] +1\r\n",
        "            return digits\r\n",
        "        \r\n",
        "        #Adding to string, converting to int, adding 1\r\n",
        "        strr = ''\r\n",
        "        for x in digits:\r\n",
        "            strr += str(x)\r\n",
        "\r\n",
        "        digits.clear()\r\n",
        "        strrnum = str(int(strr) +1 )\r\n",
        "        for y in strrnum:\r\n",
        "            digits.append(y)\r\n",
        "        return digits\r\n",
        "\r\n",
        "\r\n",
        "\r\n",
        "\r\n",
        "# digits = [1,2,3]\r\n",
        "digits = [0,1,9,9]\r\n",
        "plusOne(digits)"
      ],
      "execution_count": 44,
      "outputs": [
        {
          "output_type": "stream",
          "text": [
            "0199\n",
            "[]\n"
          ],
          "name": "stdout"
        },
        {
          "output_type": "execute_result",
          "data": {
            "text/plain": [
              "['2', '0', '0']"
            ]
          },
          "metadata": {
            "tags": []
          },
          "execution_count": 44
        }
      ]
    }
  ]
}