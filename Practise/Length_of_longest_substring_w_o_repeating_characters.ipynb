{
  "nbformat": 4,
  "nbformat_minor": 0,
  "metadata": {
    "colab": {
      "name": "Length of longest substring w/o repeating characters.ipynb",
      "provenance": [],
      "authorship_tag": "ABX9TyMFW97vqyvOhAiAHXlmFAEt",
      "include_colab_link": true
    },
    "kernelspec": {
      "name": "python3",
      "display_name": "Python 3"
    }
  },
  "cells": [
    {
      "cell_type": "markdown",
      "metadata": {
        "id": "view-in-github",
        "colab_type": "text"
      },
      "source": [
        "<a href=\"https://colab.research.google.com/github/Nikita018/Leetcode-Problems/blob/master/Practise/Length_of_longest_substring_w_o_repeating_characters.ipynb\" target=\"_parent\"><img src=\"https://colab.research.google.com/assets/colab-badge.svg\" alt=\"Open In Colab\"/></a>"
      ]
    },
    {
      "cell_type": "code",
      "metadata": {
        "id": "LHt0L_qJIv0P"
      },
      "source": [
        "####################################################################################################\r\n",
        "Given a string s, find the length of the longest substring without repeating characters.\r\n",
        "\r\n",
        " \r\n",
        "\r\n",
        "Example 1:\r\n",
        "\r\n",
        "Input: s = \"abcabcbb\"\r\n",
        "Output: 3\r\n",
        "Explanation: The answer is \"abc\", with the length of 3.\r\n",
        "Example 2:\r\n",
        "\r\n",
        "Input: s = \"bbbbb\"\r\n",
        "Output: 1\r\n",
        "Explanation: The answer is \"b\", with the length of 1.\r\n",
        "Example 3:\r\n",
        "\r\n",
        "Input: s = \"pwwkew\"\r\n",
        "Output: 3\r\n",
        "Explanation: The answer is \"wke\", with the length of 3.\r\n",
        "Notice that the answer must be a substring, \"pwke\" is a subsequence and not a substring.\r\n",
        "Example 4:\r\n",
        "\r\n",
        "Input: s = \"\"\r\n",
        "Output: 0\r\n",
        "###########################################################################################################"
      ],
      "execution_count": null,
      "outputs": []
    },
    {
      "cell_type": "code",
      "metadata": {
        "colab": {
          "base_uri": "https://localhost:8080/"
        },
        "id": "tZAXY3vuoGoi",
        "outputId": "8e8012d6-952c-4114-a41e-7a589fae67db"
      },
      "source": [
        "# Trial 3\r\n",
        "def lengthOfLongestSubstring(s):\r\n",
        "  \r\n",
        "  d = {}\r\n",
        "  if(s==\"\"):\r\n",
        "    return 0\r\n",
        "  if(len(s)==1):\r\n",
        "    return 1\r\n",
        "  \r\n",
        "  # Keeping account of start and end index in the array\r\n",
        "  max_len = 0\r\n",
        "  start,end = 0,1\r\n",
        "\r\n",
        "  # saving non-duplicate enteries in a dict\r\n",
        "  d[s[start]] = 1\r\n",
        "  while(end<len(s)):\r\n",
        "    if(s[end] not in d):\r\n",
        "      d[s[end]] = 1\r\n",
        "      end += 1\r\n",
        "      print(\"Addition to d\",d)\r\n",
        "      if(len(d.keys())>max_len):\r\n",
        "          max_len= len(d.keys())\r\n",
        "    else:\r\n",
        "      del d[s[start]]\r\n",
        "      start += 1\r\n",
        "  return max_len\r\n",
        "\r\n",
        "# s = \"dvdf\"\r\n",
        "s = \" \"\r\n",
        "lengthOfLongestSubstring(s)"
      ],
      "execution_count": 56,
      "outputs": [
        {
          "output_type": "execute_result",
          "data": {
            "text/plain": [
              "1"
            ]
          },
          "metadata": {
            "tags": []
          },
          "execution_count": 56
        }
      ]
    },
    {
      "cell_type": "code",
      "metadata": {
        "id": "mmSQOp6MrYkQ"
      },
      "source": [
        ""
      ],
      "execution_count": null,
      "outputs": []
    }
  ]
}