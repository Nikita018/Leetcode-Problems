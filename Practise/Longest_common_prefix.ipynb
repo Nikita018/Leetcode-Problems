{
  "nbformat": 4,
  "nbformat_minor": 0,
  "metadata": {
    "colab": {
      "name": "Longest common prefix.ipynb",
      "provenance": [],
      "authorship_tag": "ABX9TyP8ozr/GWU8Gr0G+j+KD2zc",
      "include_colab_link": true
    },
    "kernelspec": {
      "name": "python3",
      "display_name": "Python 3"
    }
  },
  "cells": [
    {
      "cell_type": "markdown",
      "metadata": {
        "id": "view-in-github",
        "colab_type": "text"
      },
      "source": [
        "<a href=\"https://colab.research.google.com/github/Nikita018/Leetcode-Problems/blob/master/Practise/Longest_common_prefix.ipynb\" target=\"_parent\"><img src=\"https://colab.research.google.com/assets/colab-badge.svg\" alt=\"Open In Colab\"/></a>"
      ]
    },
    {
      "cell_type": "code",
      "metadata": {
        "id": "vBoNOS2pje5D"
      },
      "source": [
        "###########################################################################################################\r\n",
        "Write a function to find the longest common prefix string amongst an array of strings.\r\n",
        "\r\n",
        "If there is no common prefix, return an empty string \"\".\r\n",
        "\r\n",
        " \r\n",
        "\r\n",
        "Example 1:\r\n",
        "\r\n",
        "Input: strs = [\"flower\",\"flow\",\"flight\"]\r\n",
        "Output: \"fl\"\r\n",
        "Example 2:\r\n",
        "\r\n",
        "Input: strs = [\"dog\",\"racecar\",\"car\"]\r\n",
        "Output: \"\"\r\n",
        "Explanation: There is no common prefix among the input strings.\r\n",
        "#########################################################################################################"
      ],
      "execution_count": null,
      "outputs": []
    },
    {
      "cell_type": "code",
      "metadata": {
        "colab": {
          "base_uri": "https://localhost:8080/",
          "height": 36
        },
        "id": "i_KqBEurjyoP",
        "outputId": "df79cb6e-b451-4067-e46e-2828ad38a0fe"
      },
      "source": [
        "def longestCommonPrefix(strs):\r\n",
        "  common = ''\r\n",
        "  break_ctr = False\r\n",
        "  len_strs = [len(item) for item in strs]\r\n",
        "  if(len(strs)>1):\r\n",
        "    min_len = min(len_strs)\r\n",
        "    for i in range(min_len):\r\n",
        "      counter=0\r\n",
        "      for idx in range(len(strs)-1):\r\n",
        "        if(strs[idx][i]==strs[idx+1][i]):\r\n",
        "          counter +=1\r\n",
        "        if(counter==len(strs)-1):\r\n",
        "          common += strs[idx][i]\r\n",
        "        if(counter!=len(strs)-1 and idx==len(strs)-2):\r\n",
        "          break_ctr = True\r\n",
        "          break\r\n",
        "      if(break_ctr):\r\n",
        "        break\r\n",
        "  elif(len(strs)==1):\r\n",
        "    common = strs[0]\r\n",
        "  return common\r\n",
        "\r\n",
        "\r\n",
        "\r\n",
        "# strs = [\"dog\",\"racecar\",\"car\"]\r\n",
        "# strs = [\"flower\",\"flow\",\"flight\"]\r\n",
        "strs = ['cir', 'car']\r\n",
        "longestCommonPrefix(strs)"
      ],
      "execution_count": 30,
      "outputs": [
        {
          "output_type": "execute_result",
          "data": {
            "application/vnd.google.colaboratory.intrinsic+json": {
              "type": "string"
            },
            "text/plain": [
              "'c'"
            ]
          },
          "metadata": {
            "tags": []
          },
          "execution_count": 30
        }
      ]
    },
    {
      "cell_type": "code",
      "metadata": {
        "id": "1CoQ9RdStW37"
      },
      "source": [
        ""
      ],
      "execution_count": null,
      "outputs": []
    }
  ]
}