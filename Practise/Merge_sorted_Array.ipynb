{
  "nbformat": 4,
  "nbformat_minor": 0,
  "metadata": {
    "colab": {
      "name": "Merge sorted Array.ipynb",
      "provenance": [],
      "collapsed_sections": [],
      "authorship_tag": "ABX9TyMmS5ny2tIYPGrXZDWePLz8",
      "include_colab_link": true
    },
    "kernelspec": {
      "name": "python3",
      "display_name": "Python 3"
    }
  },
  "cells": [
    {
      "cell_type": "markdown",
      "metadata": {
        "id": "view-in-github",
        "colab_type": "text"
      },
      "source": [
        "<a href=\"https://colab.research.google.com/github/Nikita018/Leetcode-Problems/blob/master/Practise/Merge_sorted_Array.ipynb\" target=\"_parent\"><img src=\"https://colab.research.google.com/assets/colab-badge.svg\" alt=\"Open In Colab\"/></a>"
      ]
    },
    {
      "cell_type": "code",
      "metadata": {
        "id": "P1wZIU_wHWBH"
      },
      "source": [
        "#########################################################################################################################################################################\r\n",
        "Merge Sorted Array\r\n",
        "Easy\r\n",
        "\r\n",
        "3222\r\n",
        "\r\n",
        "4871\r\n",
        "\r\n",
        "Add to List\r\n",
        "\r\n",
        "Share\r\n",
        "Given two sorted integer arrays nums1 and nums2, merge nums2 into nums1 as one sorted array.\r\n",
        "\r\n",
        "The number of elements initialized in nums1 and nums2 are m and n respectively. You may assume that nums1 has enough space (size that is equal to m + n) to hold additional elements from nums2.\r\n",
        "\r\n",
        " \r\n",
        "\r\n",
        "Example 1:\r\n",
        "\r\n",
        "Input: nums1 = [1,2,3,0,0,0], m = 3, nums2 = [2,5,6], n = 3\r\n",
        "Output: [1,2,2,3,5,6]\r\n",
        "Example 2:\r\n",
        "\r\n",
        "Input: nums1 = [1], m = 1, nums2 = [], n = 0\r\n",
        "Output: [1]\r\n",
        "############################################################################################################################################################################"
      ],
      "execution_count": null,
      "outputs": []
    },
    {
      "cell_type": "code",
      "metadata": {
        "colab": {
          "base_uri": "https://localhost:8080/"
        },
        "id": "u2s83sE3HbEN",
        "outputId": "5a37e288-fa4d-471a-ef10-910d935790e0"
      },
      "source": [
        "def merge(nums1,m,nums2,n):\r\n",
        "  i = m+n-1\r\n",
        "\r\n",
        "  while(n>=1 and m>=1):\r\n",
        "    if(nums2[n-1]>=nums1[m-1]):\r\n",
        "      nums1[i] = nums2[n-1]\r\n",
        "      n -= 1\r\n",
        "    else:\r\n",
        "      nums1[i] = nums1[m-1]\r\n",
        "      m -= 1\r\n",
        "    i -= 1\r\n",
        "\r\n",
        "  if n>=1:\r\n",
        "    nums1[i::-1] = nums2[n-1::-1]\r\n",
        "  return nums1\r\n",
        "\r\n",
        "\r\n",
        "\r\n",
        "\r\n",
        "nums1 = [1,2,3,0,0,0]\r\n",
        "m = 3\r\n",
        "nums2 = [2,5,6]\r\n",
        "n = 3\r\n",
        "merge(nums1,m,nums2,n)"
      ],
      "execution_count": 7,
      "outputs": [
        {
          "output_type": "execute_result",
          "data": {
            "text/plain": [
              "[1, 2, 2, 3, 5, 6]"
            ]
          },
          "metadata": {
            "tags": []
          },
          "execution_count": 7
        }
      ]
    }
  ]
}