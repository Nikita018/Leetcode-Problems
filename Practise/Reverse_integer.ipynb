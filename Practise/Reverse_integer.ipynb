{
  "nbformat": 4,
  "nbformat_minor": 0,
  "metadata": {
    "colab": {
      "name": "Reverse integer.ipynb",
      "provenance": [],
      "collapsed_sections": [],
      "authorship_tag": "ABX9TyMcyWiQBLk2Qh8Dm2KkJSWs",
      "include_colab_link": true
    },
    "kernelspec": {
      "name": "python3",
      "display_name": "Python 3"
    }
  },
  "cells": [
    {
      "cell_type": "markdown",
      "metadata": {
        "id": "view-in-github",
        "colab_type": "text"
      },
      "source": [
        "<a href=\"https://colab.research.google.com/github/Nikita018/Leetcode-Problems/blob/master/Practise/Reverse_integer.ipynb\" target=\"_parent\"><img src=\"https://colab.research.google.com/assets/colab-badge.svg\" alt=\"Open In Colab\"/></a>"
      ]
    },
    {
      "cell_type": "code",
      "metadata": {
        "id": "ijz8shg4ZLPu"
      },
      "source": [
        "#############################################################################################\r\n",
        "Given a 32-bit signed integer, reverse digits of an integer.\r\n",
        "\r\n",
        "Note: Assume we are dealing with an environment that could only store integers within the 32-bit signed integer range: [−231,  231 − 1]. For this problem, assume that your function returns 0 when the reversed integer overflows.\r\n",
        "\r\n",
        " \r\n",
        "\r\n",
        "Example 1:\r\n",
        "\r\n",
        "Input: x = 123\r\n",
        "Output: 321\r\n",
        "Example 2:\r\n",
        "\r\n",
        "Input: x = -123\r\n",
        "Output: -321\r\n",
        "Example 3:\r\n",
        "\r\n",
        "Input: x = 120\r\n",
        "Output: 21\r\n",
        "##############################################################################################"
      ],
      "execution_count": null,
      "outputs": []
    },
    {
      "cell_type": "code",
      "metadata": {
        "colab": {
          "base_uri": "https://localhost:8080/"
        },
        "id": "8ygE7ylwZNkt",
        "outputId": "9048d958-2cef-43d4-bf87-ee199f8b8b5a"
      },
      "source": [
        "# converting to string and reversing\r\n",
        "def reverse(x):\r\n",
        "  if(x<0):\r\n",
        "    sign = -1\r\n",
        "    x = x*sign\r\n",
        "  else:\r\n",
        "    sign = 1\r\n",
        "  n = len(str(x))\r\n",
        "  s = ''\r\n",
        "  for i in reversed(range(n)):\r\n",
        "    s += str(x)[i]\r\n",
        "  if(-2147483648<int(s) and int(s)<2147483647):\r\n",
        "    return int(s)*sign\r\n",
        "  else:\r\n",
        "    return 0\r\n",
        "\r\n",
        "\r\n",
        "\r\n",
        "x = -321\r\n",
        "reverse(x)"
      ],
      "execution_count": 22,
      "outputs": [
        {
          "output_type": "execute_result",
          "data": {
            "text/plain": [
              "-123"
            ]
          },
          "metadata": {
            "tags": []
          },
          "execution_count": 22
        }
      ]
    },
    {
      "cell_type": "code",
      "metadata": {
        "colab": {
          "base_uri": "https://localhost:8080/"
        },
        "id": "n_8wNj-qf1gP",
        "outputId": "f916c845-5c5b-4498-bc9c-5923d192f581"
      },
      "source": [
        "#Integer way\r\n",
        "def reverse(num):\r\n",
        "  sum = 0\r\n",
        "  if(num<0):\r\n",
        "    sign = -1\r\n",
        "    num = num*sign\r\n",
        "  else:\r\n",
        "    sign = 1\r\n",
        "  while(num>0):\r\n",
        "    rem = num%10\r\n",
        "    sum = sum*10+rem\r\n",
        "    num = num//10\r\n",
        "  if(-2147483648<sum and sum<2147483647):\r\n",
        "    return sum*sign\r\n",
        "  else:\r\n",
        "    return 0\r\n",
        "\r\n",
        "x = -321\r\n",
        "reverse(x)"
      ],
      "execution_count": 24,
      "outputs": [
        {
          "output_type": "execute_result",
          "data": {
            "text/plain": [
              "-123"
            ]
          },
          "metadata": {
            "tags": []
          },
          "execution_count": 24
        }
      ]
    }
  ]
}