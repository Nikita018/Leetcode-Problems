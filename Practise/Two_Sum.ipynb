{
  "nbformat": 4,
  "nbformat_minor": 0,
  "metadata": {
    "colab": {
      "name": "Two Sum.ipynb",
      "provenance": [],
      "collapsed_sections": [],
      "authorship_tag": "ABX9TyMznnQJuKAD9IBJ+YpIs2+p",
      "include_colab_link": true
    },
    "kernelspec": {
      "name": "python3",
      "display_name": "Python 3"
    }
  },
  "cells": [
    {
      "cell_type": "markdown",
      "metadata": {
        "id": "view-in-github",
        "colab_type": "text"
      },
      "source": [
        "<a href=\"https://colab.research.google.com/github/Nikita018/Leetcode-Problems/blob/master/Practise/Two_Sum.ipynb\" target=\"_parent\"><img src=\"https://colab.research.google.com/assets/colab-badge.svg\" alt=\"Open In Colab\"/></a>"
      ]
    },
    {
      "cell_type": "code",
      "metadata": {
        "id": "B92rPcimq5Rx"
      },
      "source": [
        "############################################################\r\n",
        "Given an array of integers nums and an integer target, return indices of the two numbers such that they add up to target.\r\n",
        "\r\n",
        "You may assume that each input would have exactly one solution, and you may not use the same element twice.\r\n",
        "\r\n",
        "You can return the answer in any order.\r\n",
        "\r\n",
        " \r\n",
        "\r\n",
        "Example 1:\r\n",
        "\r\n",
        "Input: nums = [2,7,11,15], target = 9\r\n",
        "Output: [0,1]\r\n",
        "Output: Because nums[0] + nums[1] == 9, we return [0, 1].\r\n",
        "Example 2:\r\n",
        "\r\n",
        "Input: nums = [3,2,4], target = 6\r\n",
        "Output: [1,2]\r\n",
        "Example 3:\r\n",
        "\r\n",
        "Input: nums = [3,3], target = 6\r\n",
        "Output: [0,1]\r\n",
        " \r\n",
        " ############################################################"
      ],
      "execution_count": null,
      "outputs": []
    },
    {
      "cell_type": "code",
      "metadata": {
        "colab": {
          "base_uri": "https://localhost:8080/"
        },
        "id": "y8JSFc6Cq8GW",
        "outputId": "4febf897-10c4-4c9c-f895-29cafd213625"
      },
      "source": [
        "# Runtime complexity : O(n^2)\r\n",
        "def twoSum(nums, target):\r\n",
        "  for i in range(len(nums)):\r\n",
        "    if(target>nums[i]):\r\n",
        "      need = target - nums[i]\r\n",
        "      for j in range(i, len(nums)):\r\n",
        "        if(nums[j]==need):\r\n",
        "          return [i,j]\r\n",
        "  return False\r\n",
        "\r\n",
        "nums = [2,7,11,15]\r\n",
        "target = 9\r\n",
        "twoSum(nums, target)"
      ],
      "execution_count": 10,
      "outputs": [
        {
          "output_type": "execute_result",
          "data": {
            "text/plain": [
              "[0, 1]"
            ]
          },
          "metadata": {
            "tags": []
          },
          "execution_count": 10
        }
      ]
    },
    {
      "cell_type": "code",
      "metadata": {
        "colab": {
          "base_uri": "https://localhost:8080/"
        },
        "id": "DhLAeGP2sEeL",
        "outputId": "f34984e5-22a9-455d-84d8-dd0d8dc72fc8"
      },
      "source": [
        "# Runtime complexity : O(n) \r\n",
        "def twoSum(nums, target):\r\n",
        "  d = { k : v for v,k in enumerate(nums) }\r\n",
        "  for i in nums : \r\n",
        "    if(target-i in d):\r\n",
        "      return [d[i],d[target-i]]\r\n",
        "  return False\r\n",
        "  \r\n",
        "\r\n",
        "nums = [2,7,11,15]\r\n",
        "target = 9\r\n",
        "twoSum(nums, target)"
      ],
      "execution_count": 28,
      "outputs": [
        {
          "output_type": "execute_result",
          "data": {
            "text/plain": [
              "[0, 1]"
            ]
          },
          "metadata": {
            "tags": []
          },
          "execution_count": 28
        }
      ]
    },
    {
      "cell_type": "code",
      "metadata": {
        "colab": {
          "base_uri": "https://localhost:8080/"
        },
        "id": "nrhKDbXtthQP",
        "outputId": "c6167ce2-5fe0-48e5-a5b8-e31f47dabf28"
      },
      "source": [
        "def binary_search(arr, x): \r\n",
        "    low = 0\r\n",
        "    high = len(arr) - 1\r\n",
        "    mid = 0\r\n",
        "  \r\n",
        "    while low <= high: \r\n",
        "  \r\n",
        "        mid = (high + low) // 2\r\n",
        "  \r\n",
        "        # Check if x is present at mid \r\n",
        "        if arr[mid] < x: \r\n",
        "            low = mid + 1\r\n",
        "  \r\n",
        "        # If x is greater, ignore left half \r\n",
        "        elif arr[mid] > x: \r\n",
        "            high = mid - 1\r\n",
        "  \r\n",
        "        # If x is smaller, ignore right half \r\n",
        "        else: \r\n",
        "            return mid \r\n",
        "  \r\n",
        "    # If we reach here, then the element was not present \r\n",
        "    return -1\r\n",
        "\r\n",
        "\r\n",
        "# Runtime complexity : O(nlogn)\r\n",
        "def twoSum(nums, target):\r\n",
        "  for i in range(len(nums)):\r\n",
        "    need = target - nums[i]\r\n",
        "    res_2=-1\r\n",
        "    j = i+1\r\n",
        "    res_2 = binary_search(nums[j:],need)\r\n",
        "    j+=1\r\n",
        "    break\r\n",
        "  return [i,res_2]\r\n",
        "  \r\n",
        "\r\n",
        "nums = [2,11,7,15]\r\n",
        "target = 9\r\n",
        "twoSum(nums, target)"
      ],
      "execution_count": 32,
      "outputs": [
        {
          "output_type": "execute_result",
          "data": {
            "text/plain": [
              "[0, 1]"
            ]
          },
          "metadata": {
            "tags": []
          },
          "execution_count": 32
        }
      ]
    }
  ]
}