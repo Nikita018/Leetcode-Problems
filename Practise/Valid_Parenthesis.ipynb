{
  "nbformat": 4,
  "nbformat_minor": 0,
  "metadata": {
    "colab": {
      "name": "Valid_Parenthesis.ipynb",
      "provenance": [],
      "collapsed_sections": [],
      "authorship_tag": "ABX9TyMUIoWpUSn694+LfoLaMRmo",
      "include_colab_link": true
    },
    "kernelspec": {
      "name": "python3",
      "display_name": "Python 3"
    }
  },
  "cells": [
    {
      "cell_type": "markdown",
      "metadata": {
        "id": "view-in-github",
        "colab_type": "text"
      },
      "source": [
        "<a href=\"https://colab.research.google.com/github/Nikita018/Leetcode-Problems/blob/master/Practise/Valid_Parenthesis.ipynb\" target=\"_parent\"><img src=\"https://colab.research.google.com/assets/colab-badge.svg\" alt=\"Open In Colab\"/></a>"
      ]
    },
    {
      "cell_type": "code",
      "metadata": {
        "id": "tzuIlVrbxEnV"
      },
      "source": [
        "##################################################################################################################################\r\n",
        "Given a string s containing just the characters '(', ')', '{', '}', '[' and ']', determine if the input string is valid.\r\n",
        "\r\n",
        "An input string is valid if:\r\n",
        "\r\n",
        "Open brackets must be closed by the same type of brackets.\r\n",
        "Open brackets must be closed in the correct order.\r\n",
        " \r\n",
        "\r\n",
        "Example 1:\r\n",
        "\r\n",
        "Input: s = \"()\"\r\n",
        "Output: true\r\n",
        "Example 2:\r\n",
        "\r\n",
        "Input: s = \"()[]{}\"\r\n",
        "Output: true\r\n",
        "Example 3:\r\n",
        "\r\n",
        "Input: s = \"(]\"\r\n",
        "Output: false\r\n",
        "Example 4:\r\n",
        "\r\n",
        "Input: s = \"([)]\"\r\n",
        "Output: false\r\n",
        "Example 5:\r\n",
        "\r\n",
        "Input: s = \"{[]}\"\r\n",
        "Output: true\r\n",
        "##################################################################################################################################"
      ],
      "execution_count": null,
      "outputs": []
    },
    {
      "cell_type": "code",
      "metadata": {
        "colab": {
          "base_uri": "https://localhost:8080/"
        },
        "id": "uD5cthqt2GKj",
        "outputId": "987c28ab-afa4-4b3a-fa21-79e10bdd62b5"
      },
      "source": [
        "# Trial : 2\r\n",
        "def isValid(s):\r\n",
        "  if(len(s)%2!=0):\r\n",
        "    return False\r\n",
        "  stack = []\r\n",
        "  brackets = {'{':'}','(':')','[':']'}\r\n",
        "  for idx in range(len(s)):\r\n",
        "    if(s[idx] in brackets.keys()):\r\n",
        "      stack.append(s[idx])\r\n",
        "    else:\r\n",
        "      if(len(stack)>0):\r\n",
        "        open_item = stack.pop()\r\n",
        "        if(s[idx]==brackets[open_item]):\r\n",
        "          continue\r\n",
        "        else:\r\n",
        "          return False\r\n",
        "      else:\r\n",
        "        return False\r\n",
        "  if(len(stack)!=0):\r\n",
        "    return False\r\n",
        "  return True\r\n",
        "\r\n",
        "s = \")}\"\r\n",
        "# s = \"{[]}\"\r\n",
        "# s = \"([)]\"\r\n",
        "# s = \"(])\"\r\n",
        "# s = '[{[]}]{[}]'\r\n",
        "isValid(s)"
      ],
      "execution_count": 46,
      "outputs": [
        {
          "output_type": "execute_result",
          "data": {
            "text/plain": [
              "False"
            ]
          },
          "metadata": {
            "tags": []
          },
          "execution_count": 46
        }
      ]
    },
    {
      "cell_type": "code",
      "metadata": {
        "colab": {
          "base_uri": "https://localhost:8080/"
        },
        "id": "D8Sa6V-t4DcJ",
        "outputId": "fea4c3f4-8013-4231-b1a7-48d8fb2b349f"
      },
      "source": [
        "5 in [2,3,5]"
      ],
      "execution_count": 25,
      "outputs": [
        {
          "output_type": "execute_result",
          "data": {
            "text/plain": [
              "True"
            ]
          },
          "metadata": {
            "tags": []
          },
          "execution_count": 25
        }
      ]
    }
  ]
}