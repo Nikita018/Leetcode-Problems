{
  "nbformat": 4,
  "nbformat_minor": 0,
  "metadata": {
    "colab": {
      "name": "Two City Scheduling.ipynb",
      "provenance": [],
      "authorship_tag": "ABX9TyMHuvZpqdYCC0fxEHu/Azro",
      "include_colab_link": true
    },
    "kernelspec": {
      "name": "python3",
      "display_name": "Python 3"
    }
  },
  "cells": [
    {
      "cell_type": "markdown",
      "metadata": {
        "id": "view-in-github",
        "colab_type": "text"
      },
      "source": [
        "<a href=\"https://colab.research.google.com/github/Nikita018/Leetcode-Problems/blob/master/Two_City_Scheduling.ipynb\" target=\"_parent\"><img src=\"https://colab.research.google.com/assets/colab-badge.svg\" alt=\"Open In Colab\"/></a>"
      ]
    },
    {
      "cell_type": "code",
      "metadata": {
        "id": "Ecvb3Tosc8BB",
        "colab_type": "code",
        "colab": {}
      },
      "source": [
        "### There are 2N people a company is planning to interview. The cost of flying the i-th person to city A is costs[i][0], and the cost of flying the i-th person to city B is costs[i][1].\n",
        "\n",
        "### Return the minimum cost to fly every person to a city such that exactly N people arrive in each city.\n",
        "\n",
        "\n",
        "Input: [[10,20],[30,200],[400,50],[30,20]]\n",
        "Output: 110\n",
        "Explanation: \n",
        "The first person goes to city A for a cost of 10.\n",
        "The second person goes to city A for a cost of 30.\n",
        "The third person goes to city B for a cost of 50.\n",
        "The fourth person goes to city B for a cost of 20.\n",
        "\n",
        "The total minimum cost is 10 + 30 + 50 + 20 = 110 to have half the people interviewing in each city."
      ],
      "execution_count": 0,
      "outputs": []
    },
    {
      "cell_type": "code",
      "metadata": {
        "id": "msdTxoFmLjq9",
        "colab_type": "code",
        "colab": {}
      },
      "source": [
        "input = [[10,20],[30,200],[400,50],[30,20]]"
      ],
      "execution_count": 0,
      "outputs": []
    },
    {
      "cell_type": "code",
      "metadata": {
        "id": "gsRbGMQOLnUa",
        "colab_type": "code",
        "colab": {
          "base_uri": "https://localhost:8080/",
          "height": 34
        },
        "outputId": "089524f2-b190-42c7-8426-36a0f99ef341"
      },
      "source": [
        "import numpy as np\n",
        "n = len(input)\n",
        "a,b = n/2,n/2\n",
        "diff,cost = [],0\n",
        "idx = 0\n",
        "for i in input:\n",
        "  diff.append(np.abs(i[0]-i[1]))\n",
        "  idx+=1\n",
        "sort_index = np.argsort(diff)\n",
        "largest_indices = sort_index[::-1][:n]\n",
        "\n",
        "for i in largest_indices:\n",
        "  items = input[i]\n",
        "  if(b==0 or (items[0]<items[1] and a>0)):\n",
        "    cost += items[0]\n",
        "    a+=-1\n",
        "  else:\n",
        "    cost += items[1]\n",
        "    b+=-1\n",
        "print(\"Min cost : \", cost)"
      ],
      "execution_count": 45,
      "outputs": [
        {
          "output_type": "stream",
          "text": [
            "Min cost :  110\n"
          ],
          "name": "stdout"
        }
      ]
    }
  ]
}